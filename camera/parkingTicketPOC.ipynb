{
 "cells": [
  {
   "cell_type": "code",
   "execution_count": 10,
   "metadata": {},
   "outputs": [],
   "source": [
    "from numpy import random\n",
    "import pandas as pd\n",
    "import numpy as np\n",
    "import matplotlib.pyplot as plt\n",
    "%matplotlib inline\n",
    "\n",
    "\n",
    "n_examples = 1000\n",
    "\n",
    "citationIds = ['citation%s'%id for id in range(n_examples)]\n",
    "latitudes =  [39.299236 + random.rand() - 0.5 for _ in range(n_examples)]\n",
    "longitudes = [-76.609383 + random.rand() -0.5 for _ in range(n_examples)]\n",
    "political_neigh = random.choice(['North', 'Northeast', 'East', 'Southeast', \n",
    "                                 'South', 'Southwest', 'West', 'Northwest', 'Central'],n_examples)\n",
    "\n",
    "bmoreZips = [21201, 21202, 21203, 21205, 21206, \n",
    "             21209, 21210, 21211, 21212, 21213, \n",
    "             21214, 21215, 21216, 21217, 21218, \n",
    "             21223, 21224, 21229, 21230, 21231, \n",
    "             21233, 21235, 21239, 21241, 21251, \n",
    "             21263, 21264, 21270, 21273, 21275, \n",
    "             21278, 21279, 21280, 21281, 21287, \n",
    "             21288, 21289, 21290, 21297, 21298]\n",
    "zipcodes = [str(random.choice(bmoreZips)) for _ in range(n_examples)]\n",
    "\n",
    "current_balance = random.randint(75,150,n_examples)\n"
   ]
  },
  {
   "cell_type": "code",
   "execution_count": 11,
   "metadata": {},
   "outputs": [
    {
     "data": {
      "text/html": [
       "<div>\n",
       "<style>\n",
       "    .dataframe thead tr:only-child th {\n",
       "        text-align: right;\n",
       "    }\n",
       "\n",
       "    .dataframe thead th {\n",
       "        text-align: left;\n",
       "    }\n",
       "\n",
       "    .dataframe tbody tr th {\n",
       "        vertical-align: top;\n",
       "    }\n",
       "</style>\n",
       "<table border=\"1\" class=\"dataframe\">\n",
       "  <thead>\n",
       "    <tr style=\"text-align: right;\">\n",
       "      <th></th>\n",
       "      <th>balance</th>\n",
       "      <th>citationId</th>\n",
       "      <th>latitude</th>\n",
       "      <th>longitude</th>\n",
       "      <th>political_neighborhood</th>\n",
       "      <th>zipcode</th>\n",
       "    </tr>\n",
       "  </thead>\n",
       "  <tbody>\n",
       "    <tr>\n",
       "      <th>0</th>\n",
       "      <td>100</td>\n",
       "      <td>citation0</td>\n",
       "      <td>39.296687</td>\n",
       "      <td>-76.376014</td>\n",
       "      <td>Northwest</td>\n",
       "      <td>21264</td>\n",
       "    </tr>\n",
       "    <tr>\n",
       "      <th>1</th>\n",
       "      <td>98</td>\n",
       "      <td>citation1</td>\n",
       "      <td>39.258185</td>\n",
       "      <td>-76.794852</td>\n",
       "      <td>South</td>\n",
       "      <td>21230</td>\n",
       "    </tr>\n",
       "    <tr>\n",
       "      <th>2</th>\n",
       "      <td>76</td>\n",
       "      <td>citation2</td>\n",
       "      <td>39.360320</td>\n",
       "      <td>-76.264458</td>\n",
       "      <td>Central</td>\n",
       "      <td>21275</td>\n",
       "    </tr>\n",
       "    <tr>\n",
       "      <th>3</th>\n",
       "      <td>120</td>\n",
       "      <td>citation3</td>\n",
       "      <td>38.821104</td>\n",
       "      <td>-76.367387</td>\n",
       "      <td>Central</td>\n",
       "      <td>21233</td>\n",
       "    </tr>\n",
       "    <tr>\n",
       "      <th>4</th>\n",
       "      <td>131</td>\n",
       "      <td>citation4</td>\n",
       "      <td>39.343000</td>\n",
       "      <td>-76.381391</td>\n",
       "      <td>North</td>\n",
       "      <td>21263</td>\n",
       "    </tr>\n",
       "  </tbody>\n",
       "</table>\n",
       "</div>"
      ],
      "text/plain": [
       "   balance citationId   latitude  longitude political_neighborhood zipcode\n",
       "0      100  citation0  39.296687 -76.376014              Northwest   21264\n",
       "1       98  citation1  39.258185 -76.794852                  South   21230\n",
       "2       76  citation2  39.360320 -76.264458                Central   21275\n",
       "3      120  citation3  38.821104 -76.367387                Central   21233\n",
       "4      131  citation4  39.343000 -76.381391                  North   21263"
      ]
     },
     "execution_count": 11,
     "metadata": {},
     "output_type": "execute_result"
    }
   ],
   "source": [
    "df = pd.DataFrame({'citationId':citationIds,\n",
    "                   'latitude':latitudes,\n",
    "                   'longitude':longitudes,\n",
    "                  'political_neighborhood':political_neigh,\n",
    "                  'zipcode':zipcodes,\n",
    "                  'balance':current_balance})\n",
    "df.head()"
   ]
  },
  {
   "cell_type": "code",
   "execution_count": 61,
   "metadata": {},
   "outputs": [
    {
     "data": {
      "text/html": [
       "<div>\n",
       "<style>\n",
       "    .dataframe thead tr:only-child th {\n",
       "        text-align: right;\n",
       "    }\n",
       "\n",
       "    .dataframe thead th {\n",
       "        text-align: left;\n",
       "    }\n",
       "\n",
       "    .dataframe tbody tr th {\n",
       "        vertical-align: top;\n",
       "    }\n",
       "</style>\n",
       "<table border=\"1\" class=\"dataframe\">\n",
       "  <thead>\n",
       "    <tr style=\"text-align: right;\">\n",
       "      <th></th>\n",
       "      <th>political_neighborhood_</th>\n",
       "      <th>balance_mean</th>\n",
       "      <th>balance_sum</th>\n",
       "      <th>citationId_count</th>\n",
       "    </tr>\n",
       "  </thead>\n",
       "  <tbody>\n",
       "    <tr>\n",
       "      <th>1</th>\n",
       "      <td>East</td>\n",
       "      <td>113.649485</td>\n",
       "      <td>11024</td>\n",
       "      <td>97</td>\n",
       "    </tr>\n",
       "    <tr>\n",
       "      <th>6</th>\n",
       "      <td>Southeast</td>\n",
       "      <td>112.631579</td>\n",
       "      <td>10700</td>\n",
       "      <td>95</td>\n",
       "    </tr>\n",
       "    <tr>\n",
       "      <th>0</th>\n",
       "      <td>Central</td>\n",
       "      <td>112.530435</td>\n",
       "      <td>12941</td>\n",
       "      <td>115</td>\n",
       "    </tr>\n",
       "    <tr>\n",
       "      <th>8</th>\n",
       "      <td>West</td>\n",
       "      <td>111.750000</td>\n",
       "      <td>12516</td>\n",
       "      <td>112</td>\n",
       "    </tr>\n",
       "    <tr>\n",
       "      <th>4</th>\n",
       "      <td>Northwest</td>\n",
       "      <td>111.533898</td>\n",
       "      <td>13161</td>\n",
       "      <td>118</td>\n",
       "    </tr>\n",
       "  </tbody>\n",
       "</table>\n",
       "</div>"
      ],
      "text/plain": [
       "  political_neighborhood_  balance_mean  balance_sum  citationId_count\n",
       "1                    East    113.649485        11024                97\n",
       "6               Southeast    112.631579        10700                95\n",
       "0                 Central    112.530435        12941               115\n",
       "8                    West    111.750000        12516               112\n",
       "4               Northwest    111.533898        13161               118"
      ]
     },
     "execution_count": 61,
     "metadata": {},
     "output_type": "execute_result"
    }
   ],
   "source": [
    "pn_df = df.groupby('political_neighborhood',as_index=False).agg({'balance':['mean','sum'],'citationId':'count'})\n",
    "pn_df.columns = [\"_\".join(x) for x in pn_df.columns.ravel()]\n",
    "pn_df = pn_df.sort_values('balance_mean',ascending=False)\n",
    "pn_df.head()"
   ]
  },
  {
   "cell_type": "code",
   "execution_count": 53,
   "metadata": {},
   "outputs": [
    {
     "data": {
      "text/plain": [
       "<matplotlib.axes._subplots.AxesSubplot at 0x11d3bd438>"
      ]
     },
     "execution_count": 53,
     "metadata": {},
     "output_type": "execute_result"
    },
    {
     "data": {
      "image/png": "[encoded data removed]",
      "text/plain": [
       "<matplotlib.figure.Figure at 0x11d4b3a58>"
      ]
     },
     "metadata": {},
     "output_type": "display_data"
    }
   ],
   "source": [
    "pn_df.plot(x='political_neighborhood_', y='balance_mean', kind='bar')"
   ]
  },
  {
   "cell_type": "code",
   "execution_count": 62,
   "metadata": {},
   "outputs": [
    {
     "data": {
      "text/html": [
       "<div>\n",
       "<style>\n",
       "    .dataframe thead tr:only-child th {\n",
       "        text-align: right;\n",
       "    }\n",
       "\n",
       "    .dataframe thead th {\n",
       "        text-align: left;\n",
       "    }\n",
       "\n",
       "    .dataframe tbody tr th {\n",
       "        vertical-align: top;\n",
       "    }\n",
       "</style>\n",
       "<table border=\"1\" class=\"dataframe\">\n",
       "  <thead>\n",
       "    <tr style=\"text-align: right;\">\n",
       "      <th></th>\n",
       "      <th>zipcode_</th>\n",
       "      <th>balance_mean</th>\n",
       "      <th>balance_sum</th>\n",
       "      <th>citationId_count</th>\n",
       "    </tr>\n",
       "  </thead>\n",
       "  <tbody>\n",
       "    <tr>\n",
       "      <th>23</th>\n",
       "      <td>21241</td>\n",
       "      <td>118.333333</td>\n",
       "      <td>2130</td>\n",
       "      <td>18</td>\n",
       "    </tr>\n",
       "    <tr>\n",
       "      <th>28</th>\n",
       "      <td>21273</td>\n",
       "      <td>117.956522</td>\n",
       "      <td>2713</td>\n",
       "      <td>23</td>\n",
       "    </tr>\n",
       "    <tr>\n",
       "      <th>35</th>\n",
       "      <td>21288</td>\n",
       "      <td>117.923077</td>\n",
       "      <td>1533</td>\n",
       "      <td>13</td>\n",
       "    </tr>\n",
       "    <tr>\n",
       "      <th>33</th>\n",
       "      <td>21281</td>\n",
       "      <td>117.833333</td>\n",
       "      <td>4242</td>\n",
       "      <td>36</td>\n",
       "    </tr>\n",
       "    <tr>\n",
       "      <th>37</th>\n",
       "      <td>21290</td>\n",
       "      <td>117.421053</td>\n",
       "      <td>2231</td>\n",
       "      <td>19</td>\n",
       "    </tr>\n",
       "  </tbody>\n",
       "</table>\n",
       "</div>"
      ],
      "text/plain": [
       "   zipcode_  balance_mean  balance_sum  citationId_count\n",
       "23    21241    118.333333         2130                18\n",
       "28    21273    117.956522         2713                23\n",
       "35    21288    117.923077         1533                13\n",
       "33    21281    117.833333         4242                36\n",
       "37    21290    117.421053         2231                19"
      ]
     },
     "execution_count": 62,
     "metadata": {},
     "output_type": "execute_result"
    }
   ],
   "source": [
    "zip_df = df.groupby('zipcode',as_index=False).agg({'balance':['mean','sum'],'citationId':'count'})\n",
    "zip_df.columns = [\"_\".join(x) for x in zip_df.columns.ravel()]\n",
    "zip_df = zip_df.sort_values('balance_mean',ascending=False)\n",
    "zip_df.head()"
   ]
  },
  {
   "cell_type": "code",
   "execution_count": 60,
   "metadata": {},
   "outputs": [
    {
     "data": {
      "text/plain": [
       "<matplotlib.axes._subplots.AxesSubplot at 0x11d8134e0>"
      ]
     },
     "execution_count": 60,
     "metadata": {},
     "output_type": "execute_result"
    },
    {
     "data": {
      "image/png": "[encoded data removed]",
      "text/plain": [
       "<matplotlib.figure.Figure at 0x11d6e8828>"
      ]
     },
     "metadata": {},
     "output_type": "display_data"
    }
   ],
   "source": [
    "zip_df.plot(x='zipcode_', y='balance_mean', kind='bar',figsize=(10,4))"
   ]
  },
  {
   "cell_type": "code",
   "execution_count": null,
   "metadata": {
    "collapsed": true
   },
   "outputs": [],
   "source": []
  }
 ],
 "metadata": {
  "kernelspec": {
   "display_name": "Python 3",
   "language": "python",
   "name": "python3"
  },
  "language_info": {
   "codemirror_mode": {
    "name": "ipython",
    "version": 3
   },
   "file_extension": ".py",
   "mimetype": "text/x-python",
   "name": "python",
   "nbconvert_exporter": "python",
   "pygments_lexer": "ipython3",
   "version": "3.6.6"
  }
 },
 "nbformat": 4,
 "nbformat_minor": 2
}
