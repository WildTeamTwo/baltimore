{
 "cells": [
  {
   "cell_type": "markdown",
   "metadata": {},
   "source": [
    "import the json into python"
   ]
  },
  {
   "cell_type": "code",
   "execution_count": 2,
   "metadata": {
    "collapsed": true
   },
   "outputs": [],
   "source": [
    "import pandas as pd\n",
    "import json\n",
    "\n",
    "with open('FixedSpeedCameraCitations.json',encoding=\"utf8\") as f:\n",
    "    data = json.load(f)"
   ]
  },
  {
   "cell_type": "markdown",
   "metadata": {},
   "source": [
    "the top-level json is a dictionary with a 'meta' and 'data' key"
   ]
  },
  {
   "cell_type": "code",
   "execution_count": 3,
   "metadata": {},
   "outputs": [
    {
     "data": {
      "text/plain": [
       "dict_keys(['meta', 'data'])"
      ]
     },
     "execution_count": 3,
     "metadata": {},
     "output_type": "execute_result"
    }
   ],
   "source": [
    "data.keys()"
   ]
  },
  {
   "cell_type": "markdown",
   "metadata": {},
   "source": [
    "taking a glance at the data just to make sure it got imported properly.  Data looks ok, but the columns titles are missing"
   ]
  },
  {
   "cell_type": "code",
   "execution_count": 4,
   "metadata": {
    "scrolled": true
   },
   "outputs": [
    {
     "name": "stdout",
     "output_type": "stream",
     "text": [
      "        0                                     1        2           3       4   \\\n",
      "0  1173420  9E151957-BCE8-4D59-A1A4-23A6A0EB816C  1173420  1527609404  890398   \n",
      "1  1173721  9E299A84-295C-4B3A-B779-16EAE83A0C32  1173721  1527609404  890398   \n",
      "2  1173366  9EDE6D54-7A83-4A30-A71E-3377C5CA895A  1173366  1527609404  890398   \n",
      "3  1173724  9F107704-10EE-4310-A0B7-9919818379EB  1173724  1527609404  890398   \n",
      "4  1173376  9F70C28D-D7DA-4AA6-8F3F-AAC2226FDE66  1173376  1527609404  890398   \n",
      "5  1173101  9F9F0A02-FC57-4360-AD96-9A961646D731  1173101  1527609404  890398   \n",
      "6  1173269  9FEB6CFD-27EE-4754-8DB0-949290DC003C  1173269  1527609404  890398   \n",
      "7  1173099  A0077059-CE69-433A-A535-B711981903E3  1173099  1527609404  890398   \n",
      "8  1173608  A0186369-4ACC-4A81-AE8F-9DFF9D479769  1173608  1527609404  890398   \n",
      "9  1173027  A07422CC-A2E0-4FE1-AD2D-D401960FC7B4  1173027  1527609404  890398   \n",
      "\n",
      "           5       6     7         8        9   \\\n",
      "0  1527661777  697390  None  82691651  69943CF   \n",
      "1  1527661777  697390  None  82694655  3DE2314   \n",
      "2  1527661777  697390  None  82691115  5BA2678   \n",
      "3  1527661777  697390  None  82694689  5BT8544   \n",
      "4  1527661777  697390  None  82691214  1BV0537   \n",
      "5  1527661777  697390  None  82688467  5CZ9237   \n",
      "6  1527661777  697390  None  82690141   MCG966   \n",
      "7  1527661777  697390  None  82688442  9DE2544   \n",
      "8  1527661777  697390  None  82693525  7DA8010   \n",
      "9  1527661777  697390  None  82687725  4DA3646   \n",
      "\n",
      "                         ...                             19    20    21    22  \\\n",
      "0                        ...                           0.00  None  0.00  0.00   \n",
      "1                        ...                          40.00  None  0.00  0.00   \n",
      "2                        ...                           0.00  None  0.00  0.00   \n",
      "3                        ...                           0.00  None  0.00  0.00   \n",
      "4                        ...                           0.00  None  0.00  0.00   \n",
      "5                        ...                           0.00  None  0.00  0.00   \n",
      "6                        ...                           0.00  None  0.00  0.00   \n",
      "7                        ...                          40.00  None  0.00  0.00   \n",
      "8                        ...                          40.00  None  0.00  0.00   \n",
      "9                        ...                          40.00  None  0.00  0.00   \n",
      "\n",
      "   23                   24    25    26    27  \\\n",
      "0 NaN  2018-04-26T04:02:00  None  None  None   \n",
      "1 NaN  2018-04-26T04:02:00  None  None  None   \n",
      "2 NaN  2018-04-26T04:02:00  None  None  None   \n",
      "3 NaN  2018-04-26T04:02:00  None  None  None   \n",
      "4 NaN  2018-04-26T04:02:00  None  None  None   \n",
      "5 NaN  2018-04-26T04:02:00  None  None  None   \n",
      "6 NaN  2018-04-26T04:02:00  None  None  None   \n",
      "7 NaN  2018-04-26T04:02:00  None  None  None   \n",
      "8 NaN  2018-04-26T04:02:00  None  None  None   \n",
      "9 NaN  2018-04-26T04:02:00  None  None  None   \n",
      "\n",
      "                                                  28  \n",
      "0  [{\"address\":\"1300 BLK EAST NORTHERN PKWY\",\"cit...  \n",
      "1  [{\"address\":\"1300 BLK WEST COLD SPRING LN E\",\"...  \n",
      "2  [{\"address\":\"5000 BLK ROLAND AVE\",\"city\":\"NB B...  \n",
      "3  [{\"address\":\"2400 BLK ERDMAN AVE\",\"city\":\"NB B...  \n",
      "4  [{\"address\":\"1300 BLK WEST COLD SPRING LN W\",\"...  \n",
      "5  [{\"address\":\"3400 BLKLOCH RAVEN BLVD\",\"city\":\"...  \n",
      "6  [{\"address\":\"6100 BLK OLD HARFORD RD\",\"city\":\"...  \n",
      "7  [{\"address\":\"4300 BLK ERDMAN AVE\",\"city\":\"NB B...  \n",
      "8  [{\"address\":\"5600 BLK MORAVIA RD\",\"city\":\"NB B...  \n",
      "9  [{\"address\":\"4300 BLK ERDMAN AVE\",\"city\":\"NB B...  \n",
      "\n",
      "[10 rows x 29 columns]\n"
     ]
    }
   ],
   "source": [
    "df = pd.DataFrame(data['data'])\n",
    "print(df.head(10))"
   ]
  },
  {
   "cell_type": "markdown",
   "metadata": {},
   "source": [
    "Count the number of rows in the data"
   ]
  },
  {
   "cell_type": "code",
   "execution_count": 5,
   "metadata": {},
   "outputs": [
    {
     "data": {
      "text/plain": [
       "2312506"
      ]
     },
     "execution_count": 5,
     "metadata": {},
     "output_type": "execute_result"
    }
   ],
   "source": [
    "len(data['data'])\n"
   ]
  },
  {
   "cell_type": "markdown",
   "metadata": {},
   "source": [
    "After some investigation, found the column information"
   ]
  },
  {
   "cell_type": "code",
   "execution_count": 6,
   "metadata": {},
   "outputs": [
    {
     "data": {
      "text/plain": [
       "29"
      ]
     },
     "execution_count": 6,
     "metadata": {},
     "output_type": "execute_result"
    }
   ],
   "source": [
    "len(data['meta']['view']['columns'])"
   ]
  },
  {
   "cell_type": "markdown",
   "metadata": {},
   "source": [
    "double check that the number of rows in the data matches the number of columns"
   ]
  },
  {
   "cell_type": "code",
   "execution_count": 7,
   "metadata": {},
   "outputs": [
    {
     "data": {
      "text/plain": [
       "29"
      ]
     },
     "execution_count": 7,
     "metadata": {},
     "output_type": "execute_result"
    }
   ],
   "source": [
    "len(data['data'][0])"
   ]
  },
  {
   "cell_type": "markdown",
   "metadata": {},
   "source": [
    "get the column names"
   ]
  },
  {
   "cell_type": "code",
   "execution_count": 8,
   "metadata": {},
   "outputs": [],
   "source": [
    "columnNames = [slot['name'] for slot in data['meta']['view']['columns']]\n"
   ]
  },
  {
   "cell_type": "markdown",
   "metadata": {},
   "source": [
    "assign the columns names to the data"
   ]
  },
  {
   "cell_type": "code",
   "execution_count": 9,
   "metadata": {
    "collapsed": true
   },
   "outputs": [],
   "source": [
    "df.columns = columnNames"
   ]
  },
  {
   "cell_type": "markdown",
   "metadata": {},
   "source": [
    "take a look at the data again to confirm column names"
   ]
  },
  {
   "cell_type": "code",
   "execution_count": 10,
   "metadata": {},
   "outputs": [
    {
     "data": {
      "text/html": [
       "<div>\n",
       "<style>\n",
       "    .dataframe thead tr:only-child th {\n",
       "        text-align: right;\n",
       "    }\n",
       "\n",
       "    .dataframe thead th {\n",
       "        text-align: left;\n",
       "    }\n",
       "\n",
       "    .dataframe tbody tr th {\n",
       "        vertical-align: top;\n",
       "    }\n",
       "</style>\n",
       "<table border=\"1\" class=\"dataframe\">\n",
       "  <thead>\n",
       "    <tr style=\"text-align: right;\">\n",
       "      <th></th>\n",
       "      <th>sid</th>\n",
       "      <th>id</th>\n",
       "      <th>position</th>\n",
       "      <th>created_at</th>\n",
       "      <th>created_meta</th>\n",
       "      <th>updated_at</th>\n",
       "      <th>updated_meta</th>\n",
       "      <th>meta</th>\n",
       "      <th>Citation</th>\n",
       "      <th>Tag</th>\n",
       "      <th>...</th>\n",
       "      <th>Balance</th>\n",
       "      <th>PenaltyDate</th>\n",
       "      <th>OpenFine</th>\n",
       "      <th>OpenPenalty</th>\n",
       "      <th>NoticeDate</th>\n",
       "      <th>ImportDate</th>\n",
       "      <th>Neighborhood</th>\n",
       "      <th>PoliceDistrict</th>\n",
       "      <th>CouncilDistrict</th>\n",
       "      <th>Location</th>\n",
       "    </tr>\n",
       "  </thead>\n",
       "  <tbody>\n",
       "    <tr>\n",
       "      <th>0</th>\n",
       "      <td>1173420</td>\n",
       "      <td>9E151957-BCE8-4D59-A1A4-23A6A0EB816C</td>\n",
       "      <td>1173420</td>\n",
       "      <td>1527609404</td>\n",
       "      <td>890398</td>\n",
       "      <td>1527661777</td>\n",
       "      <td>697390</td>\n",
       "      <td>None</td>\n",
       "      <td>82691651</td>\n",
       "      <td>69943CF</td>\n",
       "      <td>...</td>\n",
       "      <td>0.00</td>\n",
       "      <td>None</td>\n",
       "      <td>0.00</td>\n",
       "      <td>0.00</td>\n",
       "      <td>NaN</td>\n",
       "      <td>2018-04-26T04:02:00</td>\n",
       "      <td>None</td>\n",
       "      <td>None</td>\n",
       "      <td>None</td>\n",
       "      <td>[{\"address\":\"1300 BLK EAST NORTHERN PKWY\",\"cit...</td>\n",
       "    </tr>\n",
       "    <tr>\n",
       "      <th>1</th>\n",
       "      <td>1173721</td>\n",
       "      <td>9E299A84-295C-4B3A-B779-16EAE83A0C32</td>\n",
       "      <td>1173721</td>\n",
       "      <td>1527609404</td>\n",
       "      <td>890398</td>\n",
       "      <td>1527661777</td>\n",
       "      <td>697390</td>\n",
       "      <td>None</td>\n",
       "      <td>82694655</td>\n",
       "      <td>3DE2314</td>\n",
       "      <td>...</td>\n",
       "      <td>40.00</td>\n",
       "      <td>None</td>\n",
       "      <td>0.00</td>\n",
       "      <td>0.00</td>\n",
       "      <td>NaN</td>\n",
       "      <td>2018-04-26T04:02:00</td>\n",
       "      <td>None</td>\n",
       "      <td>None</td>\n",
       "      <td>None</td>\n",
       "      <td>[{\"address\":\"1300 BLK WEST COLD SPRING LN E\",\"...</td>\n",
       "    </tr>\n",
       "  </tbody>\n",
       "</table>\n",
       "<p>2 rows × 29 columns</p>\n",
       "</div>"
      ],
      "text/plain": [
       "       sid                                    id  position  created_at  \\\n",
       "0  1173420  9E151957-BCE8-4D59-A1A4-23A6A0EB816C   1173420  1527609404   \n",
       "1  1173721  9E299A84-295C-4B3A-B779-16EAE83A0C32   1173721  1527609404   \n",
       "\n",
       "  created_meta  updated_at updated_meta  meta  Citation      Tag  \\\n",
       "0       890398  1527661777       697390  None  82691651  69943CF   \n",
       "1       890398  1527661777       697390  None  82694655  3DE2314   \n",
       "\n",
       "                         ...                         Balance PenaltyDate  \\\n",
       "0                        ...                            0.00        None   \n",
       "1                        ...                           40.00        None   \n",
       "\n",
       "  OpenFine OpenPenalty NoticeDate           ImportDate Neighborhood  \\\n",
       "0     0.00        0.00        NaN  2018-04-26T04:02:00         None   \n",
       "1     0.00        0.00        NaN  2018-04-26T04:02:00         None   \n",
       "\n",
       "  PoliceDistrict CouncilDistrict  \\\n",
       "0           None            None   \n",
       "1           None            None   \n",
       "\n",
       "                                            Location  \n",
       "0  [{\"address\":\"1300 BLK EAST NORTHERN PKWY\",\"cit...  \n",
       "1  [{\"address\":\"1300 BLK WEST COLD SPRING LN E\",\"...  \n",
       "\n",
       "[2 rows x 29 columns]"
      ]
     },
     "execution_count": 10,
     "metadata": {},
     "output_type": "execute_result"
    }
   ],
   "source": [
    "df.head(2)"
   ]
  },
  {
   "cell_type": "markdown",
   "metadata": {},
   "source": [
    "filter the rows down to the fixed speed camera data, and preserve the selected columns"
   ]
  },
  {
   "cell_type": "code",
   "execution_count": 11,
   "metadata": {},
   "outputs": [
    {
     "data": {
      "text/html": [
       "<div>\n",
       "<style>\n",
       "    .dataframe thead tr:only-child th {\n",
       "        text-align: right;\n",
       "    }\n",
       "\n",
       "    .dataframe thead th {\n",
       "        text-align: left;\n",
       "    }\n",
       "\n",
       "    .dataframe tbody tr th {\n",
       "        vertical-align: top;\n",
       "    }\n",
       "</style>\n",
       "<table border=\"1\" class=\"dataframe\">\n",
       "  <thead>\n",
       "    <tr style=\"text-align: right;\">\n",
       "      <th></th>\n",
       "      <th>Address</th>\n",
       "      <th>ViolCode</th>\n",
       "      <th>Description</th>\n",
       "      <th>ViolFine</th>\n",
       "      <th>ViolDate</th>\n",
       "      <th>Location</th>\n",
       "    </tr>\n",
       "  </thead>\n",
       "  <tbody>\n",
       "    <tr>\n",
       "      <th>0</th>\n",
       "      <td>1300 BLK EAST NORTHERN PKWY WB</td>\n",
       "      <td>032</td>\n",
       "      <td>Fixed Speed Camera</td>\n",
       "      <td>40.00</td>\n",
       "      <td>2018-04-12T17:36:00</td>\n",
       "      <td>[{\"address\":\"1300 BLK EAST NORTHERN PKWY\",\"cit...</td>\n",
       "    </tr>\n",
       "    <tr>\n",
       "      <th>1</th>\n",
       "      <td>1300 BLK WEST COLD SPRING LN E</td>\n",
       "      <td>032</td>\n",
       "      <td>Fixed Speed Camera</td>\n",
       "      <td>40.00</td>\n",
       "      <td>2018-04-12T19:13:00</td>\n",
       "      <td>[{\"address\":\"1300 BLK WEST COLD SPRING LN E\",\"...</td>\n",
       "    </tr>\n",
       "    <tr>\n",
       "      <th>2</th>\n",
       "      <td>5000 BLK ROLAND AVE NB</td>\n",
       "      <td>032</td>\n",
       "      <td>Fixed Speed Camera</td>\n",
       "      <td>40.00</td>\n",
       "      <td>2018-04-12T17:14:00</td>\n",
       "      <td>[{\"address\":\"5000 BLK ROLAND AVE\",\"city\":\"NB B...</td>\n",
       "    </tr>\n",
       "  </tbody>\n",
       "</table>\n",
       "</div>"
      ],
      "text/plain": [
       "                          Address ViolCode         Description ViolFine  \\\n",
       "0  1300 BLK EAST NORTHERN PKWY WB      032  Fixed Speed Camera    40.00   \n",
       "1  1300 BLK WEST COLD SPRING LN E      032  Fixed Speed Camera    40.00   \n",
       "2          5000 BLK ROLAND AVE NB      032  Fixed Speed Camera    40.00   \n",
       "\n",
       "              ViolDate                                           Location  \n",
       "0  2018-04-12T17:36:00  [{\"address\":\"1300 BLK EAST NORTHERN PKWY\",\"cit...  \n",
       "1  2018-04-12T19:13:00  [{\"address\":\"1300 BLK WEST COLD SPRING LN E\",\"...  \n",
       "2  2018-04-12T17:14:00  [{\"address\":\"5000 BLK ROLAND AVE\",\"city\":\"NB B...  "
      ]
     },
     "execution_count": 11,
     "metadata": {},
     "output_type": "execute_result"
    }
   ],
   "source": [
    "dfview = df.loc[df['Description'] == 'Fixed Speed Camera',['Address','ViolCode','Description','ViolFine','ViolDate','Location']]\n",
    "dfview.head(3)"
   ]
  },
  {
   "cell_type": "markdown",
   "metadata": {},
   "source": [
    "count the number of rows.  it is about a fifth of the total data"
   ]
  },
  {
   "cell_type": "code",
   "execution_count": 14,
   "metadata": {},
   "outputs": [
    {
     "name": "stdout",
     "output_type": "stream",
     "text": [
      "475337\n"
     ]
    },
    {
     "ename": "NameError",
     "evalue": "name 'double' is not defined",
     "output_type": "error",
     "traceback": [
      "\u001b[0;31m---------------------------------------------------------------------------\u001b[0m",
      "\u001b[0;31mNameError\u001b[0m                                 Traceback (most recent call last)",
      "\u001b[0;32m<ipython-input-14-04cd28fa588e>\u001b[0m in \u001b[0;36m<module>\u001b[0;34m()\u001b[0m\n\u001b[1;32m      1\u001b[0m \u001b[0mprint\u001b[0m\u001b[0;34m(\u001b[0m\u001b[0mlen\u001b[0m\u001b[0;34m(\u001b[0m\u001b[0mdfview\u001b[0m\u001b[0;34m)\u001b[0m\u001b[0;34m)\u001b[0m\u001b[0;34m\u001b[0m\u001b[0m\n\u001b[0;32m----> 2\u001b[0;31m \u001b[0mprint\u001b[0m\u001b[0;34m(\u001b[0m\u001b[0mlen\u001b[0m\u001b[0;34m(\u001b[0m\u001b[0mdfview\u001b[0m\u001b[0;34m)\u001b[0m\u001b[0;34m/\u001b[0m\u001b[0mdouble\u001b[0m\u001b[0;34m(\u001b[0m\u001b[0mlen\u001b[0m\u001b[0;34m(\u001b[0m\u001b[0mdf\u001b[0m\u001b[0;34m)\u001b[0m\u001b[0;34m)\u001b[0m\u001b[0;34m)\u001b[0m\u001b[0;34m\u001b[0m\u001b[0m\n\u001b[0m",
      "\u001b[0;31mNameError\u001b[0m: name 'double' is not defined"
     ]
    }
   ],
   "source": [
    "print(len(dfview))\n",
    "print(len(dfview)/double(len(df)))"
   ]
  },
  {
   "cell_type": "code",
   "execution_count": null,
   "metadata": {
    "collapsed": true
   },
   "outputs": [],
   "source": []
  }
 ],
 "metadata": {
  "kernelspec": {
   "display_name": "Python 3",
   "language": "python",
   "name": "python3"
  },
  "language_info": {
   "codemirror_mode": {
    "name": "ipython",
    "version": 3
   },
   "file_extension": ".py",
   "mimetype": "text/x-python",
   "name": "python",
   "nbconvert_exporter": "python",
   "pygments_lexer": "ipython3",
   "version": "3.6.6"
  }
 },
 "nbformat": 4,
 "nbformat_minor": 2
}
